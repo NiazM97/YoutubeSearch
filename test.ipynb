{
 "cells": [
  {
   "cell_type": "code",
   "execution_count": 14,
   "id": "bf750212",
   "metadata": {},
   "outputs": [],
   "source": [
    "import requests\n",
    "import json"
   ]
  },
  {
   "cell_type": "markdown",
   "id": "10034415",
   "metadata": {},
   "source": [
    "# Check if the API works"
   ]
  },
  {
   "cell_type": "code",
   "execution_count": 15,
   "id": "59baa177",
   "metadata": {},
   "outputs": [],
   "source": [
    "url = 'http://127.0.0.1:8000/search'\n",
    "query = \"quantum physics\""
   ]
  },
  {
   "cell_type": "code",
   "execution_count": 16,
   "id": "ed869c2e",
   "metadata": {},
   "outputs": [
    {
     "name": "stdout",
     "output_type": "stream",
     "text": [
      "CPU times: user 1 μs, sys: 0 ns, total: 1 μs\n",
      "Wall time: 11 μs\n"
     ]
    }
   ],
   "source": [
    "params = {\"query\": query}\n",
    "%time \n",
    "response = requests.get(url, params=params)\n"
   ]
  },
  {
   "cell_type": "code",
   "execution_count": 18,
   "id": "aa2bc056",
   "metadata": {},
   "outputs": [
    {
     "data": {
      "text/plain": [
       "['What is Quantum Mechanics? (joke video)',\n",
       " 'Spinors for Beginners 4: Quantum Spin States (Stern-Gerlach Experiment)',\n",
       " 'Spinors for Beginners 21: Introduction to Quantum Field Theory from the ground up',\n",
       " 'Introduction to Mathematics of Spinors (from a self-learner)',\n",
       " \"eigenchris's Math/Physics YouTube Channel Recommendations\"]"
      ]
     },
     "execution_count": 18,
     "metadata": {},
     "output_type": "execute_result"
    }
   ],
   "source": [
    "json.loads(response.text)['title']"
   ]
  },
  {
   "cell_type": "code",
   "execution_count": null,
   "id": "45665a87",
   "metadata": {},
   "outputs": [],
   "source": []
  }
 ],
 "metadata": {
  "kernelspec": {
   "display_name": "venv",
   "language": "python",
   "name": "python3"
  },
  "language_info": {
   "codemirror_mode": {
    "name": "ipython",
    "version": 3
   },
   "file_extension": ".py",
   "mimetype": "text/x-python",
   "name": "python",
   "nbconvert_exporter": "python",
   "pygments_lexer": "ipython3",
   "version": "3.13.5"
  }
 },
 "nbformat": 4,
 "nbformat_minor": 5
}
